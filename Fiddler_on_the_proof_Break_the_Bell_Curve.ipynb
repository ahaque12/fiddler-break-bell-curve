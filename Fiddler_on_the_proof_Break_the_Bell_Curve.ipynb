{
  "nbformat": 4,
  "nbformat_minor": 0,
  "metadata": {
    "colab": {
      "provenance": [],
      "authorship_tag": "ABX9TyPz5M2QiviPgzPhxbZvFV06",
      "include_colab_link": true
    },
    "kernelspec": {
      "name": "python3",
      "display_name": "Python 3"
    },
    "language_info": {
      "name": "python"
    }
  },
  "cells": [
    {
      "cell_type": "markdown",
      "metadata": {
        "id": "view-in-github",
        "colab_type": "text"
      },
      "source": [
        "<a href=\"https://colab.research.google.com/github/ahaque12/fiddler-break-bell-curve/blob/main/Fiddler_on_the_proof_Break_the_Bell_Curve.ipynb\" target=\"_parent\"><img src=\"https://colab.research.google.com/assets/colab-badge.svg\" alt=\"Open In Colab\"/></a>"
      ]
    },
    {
      "cell_type": "markdown",
      "source": [
        "https://thefiddler.substack.com/p/can-you-break-the-bell-curve\n",
        "\n",
        "# Problem\n",
        "\n",
        "Suppose you have a board like the one shown below. The board’s topmost row has three pins (and two slots for a ball to pass through), while the bottommost row has two pins (and three slots for a ball to pass through). The remaining rows alternate between having three pins and two pins.\n",
        "\n",
        "But instead of the 12 rows of pins in the illustrative diagram, suppose the board has many, many rows. And at the very bottom of the board, just below the two bottommost pins, are three buckets, labeled A, B, and C from left to right.\n",
        "\n",
        "\n",
        "Whenever a ball encounters one of the leftmost pins, it travels down the right side of it to the next row. And whenever a ball encounters one of the rightmost pins, it travels down the left side of it to the next row.\n",
        "\n",
        "But this isn’t your garden variety bean machine. Whenever a ball encounters any of the other pins, it has a 75 percent chance of traveling down the right side of that pin, and a 25 percent chance of traveling down the left side of that pin.\n",
        "\n",
        "A single ball is about to be dropped into the left slot at the top of the board. What is the probability that the ball ultimately lands in bucket A, the leftmost slot at the bottom?"
      ],
      "metadata": {
        "id": "g5yl_I7AcTpt"
      }
    },
    {
      "cell_type": "markdown",
      "source": [
        "# Approach\n",
        "The transition matrix is\n",
        "$$\n",
        "\\begin{align}\n",
        "X &= \\begin{bmatrix}\n",
        "1 & 0 \\\\\n",
        ".25 & .75 \\\\\n",
        "0 & 1\n",
        "      \\end{bmatrix} \\\\\n",
        "Y &= \\begin{bmatrix}\n",
        "              .25 & .75 & 0 \\\\\n",
        "              0 & .25 & .75\n",
        "            \\end{bmatrix} \\\\\n",
        "Z &= YX\n",
        "\\end{align}\n",
        "$$\n",
        "You need to proxy $Z^n$ as $n$ goes to $\\infty$. Take the eigenvalues and eigenvectors of $Z$ and put the eigenvalues at the diagonal of a matrix $D$. Then take $D^\\infty$. $Z_\\infty$ is then $V D^\\infty V^-1$. This is\n",
        "$$\n",
        "Z_\\infty Y = \\begin{bmatrix}\n",
        "0.025 & 0.3 & 0.675 \\\\\n",
        "0.025 & 0.3  & 0.675 \\\\\n",
        "0.025 & 0.3  & 0.675\n",
        "\\end{bmatrix}\n",
        "$$\n",
        "which gives you a probability of .025."
      ],
      "metadata": {
        "id": "jjJ666f2oAFM"
      }
    },
    {
      "cell_type": "code",
      "execution_count": 1,
      "metadata": {
        "id": "G0BSzW4wcOfh"
      },
      "outputs": [],
      "source": [
        "import numpy as np"
      ]
    },
    {
      "cell_type": "code",
      "source": [
        "# rev\n",
        "x = np.array([[1, 0],\n",
        "              [.25, .75],\n",
        "              [0, 1]])\n",
        "y = np.array([\n",
        "              [.25, .75, 0],\n",
        "              [0, .25, .75]\n",
        "            ])\n",
        "\n",
        "x @ y"
      ],
      "metadata": {
        "colab": {
          "base_uri": "https://localhost:8080/"
        },
        "id": "V56qvIoJcbjz",
        "outputId": "f37a0a45-bd70-496d-aeb3-fdc380bdfe17"
      },
      "execution_count": 2,
      "outputs": [
        {
          "output_type": "execute_result",
          "data": {
            "text/plain": [
              "array([[0.25  , 0.75  , 0.    ],\n",
              "       [0.0625, 0.375 , 0.5625],\n",
              "       [0.    , 0.25  , 0.75  ]])"
            ]
          },
          "metadata": {},
          "execution_count": 2
        }
      ]
    },
    {
      "cell_type": "code",
      "source": [
        "# Take y@x ^ inf\n",
        "z = y @ x\n",
        "eigenvalues, eigenvectors = np.linalg.eig(z)\n",
        "eigenvalues, eigenvectors"
      ],
      "metadata": {
        "colab": {
          "base_uri": "https://localhost:8080/"
        },
        "id": "Bl2ezNfrcvQW",
        "outputId": "a8795623-b3fd-41d1-9132-4b115e12676c"
      },
      "execution_count": 3,
      "outputs": [
        {
          "output_type": "execute_result",
          "data": {
            "text/plain": [
              "(array([0.375, 1.   ]),\n",
              " array([[-0.99388373, -0.70710678],\n",
              "        [ 0.11043153, -0.70710678]]))"
            ]
          },
          "metadata": {},
          "execution_count": 3
        }
      ]
    },
    {
      "cell_type": "code",
      "source": [
        "D = np.diag(eigenvalues)\n",
        "D"
      ],
      "metadata": {
        "colab": {
          "base_uri": "https://localhost:8080/"
        },
        "id": "ZPWsq57WddUX",
        "outputId": "5b8d1fd0-9a34-4f68-dbb5-83cc3509798a"
      },
      "execution_count": 4,
      "outputs": [
        {
          "output_type": "execute_result",
          "data": {
            "text/plain": [
              "array([[0.375, 0.   ],\n",
              "       [0.   , 1.   ]])"
            ]
          },
          "metadata": {},
          "execution_count": 4
        }
      ]
    },
    {
      "cell_type": "code",
      "source": [
        "D_inf = np.where(np.abs(D) < 1, 0, D)  # Simplified for 0 and 1\n",
        "D_inf = np.where(D == 1, 1, D_inf)      # Keep 1 as 1\n",
        "D_inf"
      ],
      "metadata": {
        "colab": {
          "base_uri": "https://localhost:8080/"
        },
        "id": "6ltUKGhlexzd",
        "outputId": "5efec1ed-c383-4dc0-8216-8e67a9a4edf6"
      },
      "execution_count": 5,
      "outputs": [
        {
          "output_type": "execute_result",
          "data": {
            "text/plain": [
              "array([[0., 0.],\n",
              "       [0., 1.]])"
            ]
          },
          "metadata": {},
          "execution_count": 5
        }
      ]
    },
    {
      "cell_type": "code",
      "source": [
        "T = eigenvectors @ D_inf @ np.linalg.inv(eigenvectors)\n",
        "T"
      ],
      "metadata": {
        "colab": {
          "base_uri": "https://localhost:8080/"
        },
        "id": "upbm3Ws6dKCZ",
        "outputId": "a1b34432-ca77-4e33-96b1-b91618b63d62"
      },
      "execution_count": 6,
      "outputs": [
        {
          "output_type": "execute_result",
          "data": {
            "text/plain": [
              "array([[0.1, 0.9],\n",
              "       [0.1, 0.9]])"
            ]
          },
          "metadata": {},
          "execution_count": 6
        }
      ]
    },
    {
      "cell_type": "code",
      "source": [
        "S = np.array([1, 0]).reshape((1, 2))\n",
        "S @ (T @ y)"
      ],
      "metadata": {
        "colab": {
          "base_uri": "https://localhost:8080/"
        },
        "id": "90k_kNqYdlWM",
        "outputId": "e89132c7-9b1d-4d28-cee3-6d4be6c08112"
      },
      "execution_count": 7,
      "outputs": [
        {
          "output_type": "execute_result",
          "data": {
            "text/plain": [
              "array([[0.025, 0.3  , 0.675]])"
            ]
          },
          "metadata": {},
          "execution_count": 7
        }
      ]
    },
    {
      "cell_type": "code",
      "source": [
        "T_b = np.linalg.matrix_power(z, 100)\n",
        "S @ T_b @ y, T_b @ y"
      ],
      "metadata": {
        "colab": {
          "base_uri": "https://localhost:8080/"
        },
        "id": "CfrVfHPMd8eI",
        "outputId": "8b9f847f-4225-4c88-867c-30038b2c56e2"
      },
      "execution_count": 8,
      "outputs": [
        {
          "output_type": "execute_result",
          "data": {
            "text/plain": [
              "(array([[0.025, 0.3  , 0.675]]),\n",
              " array([[0.025, 0.3  , 0.675],\n",
              "        [0.025, 0.3  , 0.675]]))"
            ]
          },
          "metadata": {},
          "execution_count": 8
        }
      ]
    },
    {
      "cell_type": "markdown",
      "source": [
        "# Extra Credit\n",
        "\n",
        "Suppose you have the board below, which starts with a row with six pins (and five slots), followed by a row with five pins (and six slots), and then back to six pins in an alternating pattern. Balls are only allowed to enter through the middle three slots on top.\n",
        "\n",
        "\n",
        "Your goal is to create a trapezoidal distribution along one of the rows with six slots, which have been highlighted with dotted lines in the diagram above. More precisely, the frequency of balls passing through the six slots from left to right should be x−y, x, x+y, x+y, x, x−y, for some values of x and y with x ≥ y.\n",
        "\n",
        "Suppose the ratio by which you drop balls into the top three middle slots, from left to right, is a : b : c, with a + b + c = 1. Find all ordered triples (a, b, c) that result in a trapezoidal distribution in at least one row with six slots."
      ],
      "metadata": {
        "id": "Dhe8D40yn5V9"
      }
    },
    {
      "cell_type": "markdown",
      "source": [
        "# Approach\n",
        "If you sum the trapezoidal distribution to 1 you find that $x$ is $\\frac{1}{6}$. That implies the second and second to last slot must be $\\frac{1}{6}$ at one step prior to converging. Therefore the initial distribution of three slots must be symmetric i.e., $a=c$. $b = \\frac{2^n}{6}$ where $n \\geq 1$. That leaves:\n",
        "\n",
        "$$\n",
        "\\begin{align}\n",
        "a, b, c &= \\frac{1}{3}, \\frac{1}{3}, \\frac{1}{3} \\\\\n",
        "&= \\frac{1}{6},\\frac{2}{3},\\frac{1}{6}\n",
        "\\end{align}\n",
        "$$"
      ],
      "metadata": {
        "id": "Ycgr3B3sgn54"
      }
    },
    {
      "cell_type": "code",
      "source": [
        "A = np.array([\n",
        "    [.5, .5, 0, 0, 0, 0],\n",
        "    [0, .5, .5, 0, 0, 0],\n",
        "    [0, 0, .5, .5, 0, 0],\n",
        "    [0, 0, 0, .5, .5, 0],\n",
        "    [0, 0, 0, 0, .5, .5],\n",
        "])\n",
        "\n",
        "B = np.array([\n",
        "    [1, 0, 0, 0, 0],\n",
        "    [.5, .5, 0, 0, 0],\n",
        "    [0, .5, .5, 0, 0],\n",
        "    [0, 0, .5, .5, 0],\n",
        "    [0, 0, 0, .5, .5],\n",
        "    [0, 0, 0, 0, 1],\n",
        "])\n",
        "\n",
        "A.sum(axis=1), B.sum(axis=1)"
      ],
      "metadata": {
        "id": "LfRyFfSsn9SF",
        "colab": {
          "base_uri": "https://localhost:8080/"
        },
        "outputId": "5dc6812d-c67d-4a18-bba4-6e7a7af88c1f"
      },
      "execution_count": 9,
      "outputs": [
        {
          "output_type": "execute_result",
          "data": {
            "text/plain": [
              "(array([1., 1., 1., 1., 1.]), array([1., 1., 1., 1., 1., 1.]))"
            ]
          },
          "metadata": {},
          "execution_count": 9
        }
      ]
    },
    {
      "cell_type": "code",
      "source": [
        "def trap_loss(x):\n",
        "  x = x.flatten()\n",
        "  y = (1/6) - x[0]\n",
        "  return (x[2] - ((1/6) + y))**2\n",
        "\n",
        "s = np.array([0, 1, 0, 0, 0]).reshape((1, 5))\n",
        "\n",
        "print(trap_loss(np.array([1/6, 1/6, 1/6, 1/6, 1/6, 1/6])))\n",
        "print(trap_loss(s @ A))"
      ],
      "metadata": {
        "colab": {
          "base_uri": "https://localhost:8080/"
        },
        "id": "FviU5p_O1xiK",
        "outputId": "7fff0784-0a4d-456b-89d5-904fd07a1633"
      },
      "execution_count": 10,
      "outputs": [
        {
          "output_type": "stream",
          "name": "stdout",
          "text": [
            "0.0\n",
            "0.027777777777777783\n"
          ]
        }
      ]
    },
    {
      "cell_type": "code",
      "source": [
        "def simulate(s, MAX=2**10):\n",
        "  prior_state = np.zeros(6)\n",
        "  state = s.copy()\n",
        "  i = 0\n",
        "  while True:\n",
        "    out = state.shape[1] == 6\n",
        "    if out:\n",
        "      state = state @ B\n",
        "    else:\n",
        "      state = state @ A\n",
        "\n",
        "    if not out and (trap_loss(state) < 1e-16):\n",
        "      return True, state\n",
        "    elif not out and np.array_equal(prior_state, state):\n",
        "      print(i, \"Converged\")\n",
        "      break\n",
        "    elif not out:\n",
        "      prior_state = state\n",
        "      # print(\"{:.4f}, {}\".format(trap_loss(state), state))\n",
        "    elif i > MAX:\n",
        "      break\n",
        "    i += 1\n",
        "  return False, state\n",
        "\n",
        "print(s)\n",
        "simulate(s)"
      ],
      "metadata": {
        "colab": {
          "base_uri": "https://localhost:8080/"
        },
        "id": "rEZ7mo892j1M",
        "outputId": "6d2ac835-439a-4d8d-b8f2-d05b3d4b47ae"
      },
      "execution_count": 11,
      "outputs": [
        {
          "output_type": "stream",
          "name": "stdout",
          "text": [
            "[[0 1 0 0 0]]\n",
            "696 Converged\n"
          ]
        },
        {
          "output_type": "execute_result",
          "data": {
            "text/plain": [
              "(False, array([[0.1, 0.2, 0.2, 0.2, 0.2, 0.1]]))"
            ]
          },
          "metadata": {},
          "execution_count": 11
        }
      ]
    },
    {
      "cell_type": "code",
      "source": [
        "simulate(np.array([0, 0, 1, 0, 0]).reshape((1, 5)))"
      ],
      "metadata": {
        "colab": {
          "base_uri": "https://localhost:8080/"
        },
        "id": "_heSUFoH6RbB",
        "outputId": "df6f9dfd-f534-45a0-82e4-4f30db4e9f20"
      },
      "execution_count": 12,
      "outputs": [
        {
          "output_type": "stream",
          "name": "stdout",
          "text": [
            "176 Converged\n"
          ]
        },
        {
          "output_type": "execute_result",
          "data": {
            "text/plain": [
              "(False, array([[0.1, 0.2, 0.2, 0.2, 0.2, 0.1]]))"
            ]
          },
          "metadata": {},
          "execution_count": 12
        }
      ]
    },
    {
      "cell_type": "code",
      "source": [
        "simulate(np.array([0, 1/2, 0, 1/2, 0]).reshape((1, 5)))"
      ],
      "metadata": {
        "colab": {
          "base_uri": "https://localhost:8080/"
        },
        "id": "14WmrId-iehN",
        "outputId": "f1c53c15-eb16-40c0-a1c7-1307286b1737"
      },
      "execution_count": 13,
      "outputs": [
        {
          "output_type": "stream",
          "name": "stdout",
          "text": [
            "170 Converged\n"
          ]
        },
        {
          "output_type": "execute_result",
          "data": {
            "text/plain": [
              "(False, array([[0.1, 0.2, 0.2, 0.2, 0.2, 0.1]]))"
            ]
          },
          "metadata": {},
          "execution_count": 13
        }
      ]
    },
    {
      "cell_type": "code",
      "source": [
        "# Valid distribution\n",
        "simulate(np.array([0, 1/3, 1/3, 1/3, 0]).reshape((1, 5)))"
      ],
      "metadata": {
        "colab": {
          "base_uri": "https://localhost:8080/"
        },
        "id": "BSAshVS9fZtS",
        "outputId": "876ad91d-a155-4c36-98f7-dcb592c66f86"
      },
      "execution_count": 14,
      "outputs": [
        {
          "output_type": "execute_result",
          "data": {
            "text/plain": [
              "(True,\n",
              " array([[0.        , 0.16666667, 0.33333333, 0.33333333, 0.16666667,\n",
              "         0.        ]]))"
            ]
          },
          "metadata": {},
          "execution_count": 14
        }
      ]
    },
    {
      "cell_type": "code",
      "source": [
        "# Valid distribution\n",
        "simulate(np.array([0, 1/6, 2/3, 1/6, 0]).reshape((1, 5)))"
      ],
      "metadata": {
        "colab": {
          "base_uri": "https://localhost:8080/"
        },
        "id": "Fu7Pt25pffS8",
        "outputId": "fdc3fd18-017c-446e-9ab2-8376460c444c"
      },
      "execution_count": 15,
      "outputs": [
        {
          "output_type": "execute_result",
          "data": {
            "text/plain": [
              "(True,\n",
              " array([[0.046875  , 0.16666667, 0.28645833, 0.28645833, 0.16666667,\n",
              "         0.046875  ]]))"
            ]
          },
          "metadata": {},
          "execution_count": 15
        }
      ]
    }
  ]
}